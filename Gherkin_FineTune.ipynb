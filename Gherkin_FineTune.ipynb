{
  "cells": [
    {
      "cell_type": "markdown",
      "metadata": {
        "id": "view-in-github",
        "colab_type": "text"
      },
      "source": [
        "<a href=\"https://colab.research.google.com/github/sramponi86/AI-rest-service-with-flask/blob/main/Gherkin_FineTune.ipynb\" target=\"_parent\"><img src=\"https://colab.research.google.com/assets/colab-badge.svg\" alt=\"Open In Colab\"/></a>"
      ]
    },
    {
      "cell_type": "code",
      "execution_count": null,
      "id": "39056f52",
      "metadata": {
        "id": "39056f52"
      },
      "outputs": [],
      "source": [
        "\n",
        "# 📘 Gherkin Test Case Generator - Fine-Tune FLAN-T5\n",
        "!pip install transformers datasets accelerate -q\n",
        "\n",
        "from transformers import T5Tokenizer, T5ForConditionalGeneration, Trainer, TrainingArguments, DataCollatorForSeq2Seq\n",
        "from datasets import load_dataset\n",
        "import torch\n",
        "\n",
        "# Load dataset from local (upload or mount if needed)\n",
        "dataset = load_dataset(\"json\", data_files={\"train\": \"gherkin_data.json\"}, split=\"train\")\n",
        "\n",
        "# Load FLAN-T5 model and tokenizer\n",
        "model_name = \"google/flan-t5-small\"\n",
        "tokenizer = T5Tokenizer.from_pretrained(model_name)\n",
        "model = T5ForConditionalGeneration.from_pretrained(model_name)\n",
        "\n",
        "# Preprocess\n",
        "def tokenize_fn(example):\n",
        "    input_enc = tokenizer(example[\"input\"], truncation=True, padding=\"max_length\", max_length=256)\n",
        "    target_enc = tokenizer(example[\"output\"], truncation=True, padding=\"max_length\", max_length=256)\n",
        "    input_enc[\"labels\"] = target_enc[\"input_ids\"]\n",
        "    return input_enc\n",
        "\n",
        "tokenized_dataset = dataset.map(tokenize_fn)\n",
        "\n",
        "# Training setup\n",
        "training_args = TrainingArguments(\n",
        "    output_dir=\"./gherkin_model\",\n",
        "    per_device_train_batch_size=4,\n",
        "    num_train_epochs=3,\n",
        "    logging_dir=\"./logs\",\n",
        "    save_total_limit=1,\n",
        "    logging_steps=10,\n",
        "    save_steps=50,\n",
        "    report_to=\"none\"\n",
        ")\n",
        "\n",
        "trainer = Trainer(\n",
        "    model=model,\n",
        "    args=training_args,\n",
        "    train_dataset=tokenized_dataset,\n",
        "    tokenizer=tokenizer,\n",
        "    data_collator=DataCollatorForSeq2Seq(tokenizer, model)\n",
        ")\n",
        "\n",
        "trainer.train()\n",
        "\n",
        "# Save final model\n",
        "model.save_pretrained(\"./gherkin_model\")\n",
        "tokenizer.save_pretrained(\"./gherkin_model\")\n"
      ]
    }
  ],
  "metadata": {
    "colab": {
      "provenance": [],
      "include_colab_link": true
    }
  },
  "nbformat": 4,
  "nbformat_minor": 5
}